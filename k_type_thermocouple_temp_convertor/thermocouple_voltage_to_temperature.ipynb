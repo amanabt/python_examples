{
 "cells": [
  {
   "cell_type": "code",
   "execution_count": 2,
   "metadata": {
    "collapsed": true
   },
   "outputs": [],
   "source": [
    "%matplotlib notebook\n",
    "\n",
    "import csv\n",
    "\n",
    "import numpy as np\n",
    "from matplotlib import pyplot as plt"
   ]
  },
  {
   "cell_type": "code",
   "execution_count": 3,
   "metadata": {
    "collapsed": true
   },
   "outputs": [],
   "source": [
    "csv_handler = csv.reader(open('calibration_table_ssv.txt', newline='\\n'), delimiter=' ')\n",
    "\n",
    "calib_table = list()\n",
    "\n",
    "for n, line in enumerate(csv_handler):\n",
    "    calib_table.append(list())\n",
    "    for item in line:\n",
    "        try:\n",
    "            calib_table[-1].append(float(item))\n",
    "        except ValueError:\n",
    "            if calib_table[-1] == []:\n",
    "                calib_table.pop()\n",
    "                print('popping string')\n",
    "            break\n",
    "\n",
    "calib_table = np.array(calib_table)"
   ]
  },
  {
   "cell_type": "code",
   "execution_count": 4,
   "metadata": {},
   "outputs": [
    {
     "name": "stdout",
     "output_type": "stream",
     "text": [
      "(1290,)\n"
     ]
    }
   ],
   "source": [
    "calib_table = np.delete(calib_table, 0, axis = 1)\n",
    "calib_table = np.delete(calib_table, -1, axis = 1)\n",
    "calib_table = np.ndarray.flatten(calib_table)\n",
    "print(calib_table.shape)\n",
    "\n"
   ]
  },
  {
   "cell_type": "code",
   "execution_count": 5,
   "metadata": {
    "collapsed": true
   },
   "outputs": [],
   "source": [
    "temp = np.arange(calib_table.shape[0])"
   ]
  },
  {
   "cell_type": "code",
   "execution_count": 13,
   "metadata": {},
   "outputs": [],
   "source": [
    "def temperature_from_voltage(voltage = 0.):\n",
    "    '''\n",
    "    Parameters\n",
    "    ----------\n",
    "    voltage : float\n",
    "              Thermocouple voltage.\n",
    "    \n",
    "    Returns\n",
    "    -------\n",
    "    temperature : float\n",
    "                  Temperature corresponding to the thermocouple\n",
    "                  voltage.\n",
    "    '''\n",
    "    temperature = np.interp(voltage, calib_table, temp)\n",
    "    return temperature\n"
   ]
  },
  {
   "cell_type": "code",
   "execution_count": 11,
   "metadata": {},
   "outputs": [],
   "source": [
    "def voltage_from_temperature(temperature = 27.):\n",
    "    '''\n",
    "    Parameters\n",
    "    ----------\n",
    "    temperature : float\n",
    "                  Temperature of the thermocouple.\n",
    "    \n",
    "    Returns\n",
    "    -------\n",
    "    voltage : float\n",
    "              Thermocouple voltage corresponding to the temperature\n",
    "              sensed by a thermocouple.\n",
    "    '''\n",
    "    voltage     = np.interp(temperature, temp, calib_table)\n",
    "    return voltage"
   ]
  },
  {
   "cell_type": "code",
   "execution_count": 22,
   "metadata": {},
   "outputs": [
    {
     "name": "stdout",
     "output_type": "stream",
     "text": [
      "[   3.    8.   13.   18.   23.   28.   33.   38.   43.   48.   53.   58.\n",
      "   63.   68.   73.   78.   83.   88.   93.   98.  103.  108.  113.  118.\n",
      "  123.]\n"
     ]
    },
    {
     "data": {
      "text/plain": [
       "array([ 0.119,  0.317,  0.517,  0.718,  0.919,  1.122,  1.325,  1.529,\n",
       "        1.734,  1.94 ,  2.146,  2.353,  2.56 ,  2.767,  2.975,  3.183,\n",
       "        3.39 ,  3.598,  3.805,  4.012,  4.219,  4.426,  4.632,  4.837,\n",
       "        5.042])"
      ]
     },
     "execution_count": 22,
     "metadata": {},
     "output_type": "execute_result"
    }
   ],
   "source": [
    "temperatures = np.arange(36., 160, 5) - 33\n",
    "print(temperatures)\n",
    "\n",
    "voltage_from_temperature(temperatures)"
   ]
  },
  {
   "cell_type": "code",
   "execution_count": 19,
   "metadata": {},
   "outputs": [
    {
     "data": {
      "text/plain": [
       "3.0256410256410255"
      ]
     },
     "execution_count": 19,
     "metadata": {},
     "output_type": "execute_result"
    }
   ],
   "source": [
    "temperature_from_voltage(0.12)"
   ]
  },
  {
   "cell_type": "code",
   "execution_count": 20,
   "metadata": {},
   "outputs": [
    {
     "data": {
      "text/plain": [
       "36.02564102564102"
      ]
     },
     "execution_count": 20,
     "metadata": {},
     "output_type": "execute_result"
    }
   ],
   "source": [
    "33 + 3.0256410256410255"
   ]
  },
  {
   "cell_type": "code",
   "execution_count": null,
   "metadata": {
    "collapsed": true
   },
   "outputs": [],
   "source": []
  }
 ],
 "metadata": {
  "kernelspec": {
   "display_name": "Python 3",
   "language": "python",
   "name": "python3"
  },
  "language_info": {
   "codemirror_mode": {
    "name": "ipython",
    "version": 3
   },
   "file_extension": ".py",
   "mimetype": "text/x-python",
   "name": "python",
   "nbconvert_exporter": "python",
   "pygments_lexer": "ipython3",
   "version": "3.5.2"
  }
 },
 "nbformat": 4,
 "nbformat_minor": 2
}
