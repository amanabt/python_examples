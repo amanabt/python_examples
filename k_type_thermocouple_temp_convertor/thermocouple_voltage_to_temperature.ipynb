{
 "cells": [
  {
   "cell_type": "code",
   "execution_count": 1,
   "metadata": {
    "collapsed": true
   },
   "outputs": [],
   "source": [
    "%matplotlib notebook\n",
    "\n",
    "import csv\n",
    "\n",
    "import numpy as np\n",
    "from matplotlib import pyplot as plt"
   ]
  },
  {
   "cell_type": "code",
   "execution_count": 2,
   "metadata": {
    "collapsed": true
   },
   "outputs": [],
   "source": [
    "csv_handler = csv.reader(open('calibration_table_ssv.txt', newline='\\n'), delimiter=' ')\n",
    "\n",
    "calib_table = list()\n",
    "\n",
    "for n, line in enumerate(csv_handler):\n",
    "    calib_table.append(list())\n",
    "    for item in line:\n",
    "        try:\n",
    "            calib_table[-1].append(float(item))\n",
    "        except ValueError:\n",
    "            if calib_table[-1] == []:\n",
    "                calib_table.pop()\n",
    "                print('popping string')\n",
    "            break\n",
    "\n",
    "calib_table = np.array(calib_table)"
   ]
  },
  {
   "cell_type": "code",
   "execution_count": 3,
   "metadata": {},
   "outputs": [
    {
     "name": "stdout",
     "output_type": "stream",
     "text": [
      "(1290,)\n"
     ]
    }
   ],
   "source": [
    "calib_table = np.delete(calib_table, 0, axis = 1)\n",
    "calib_table = np.delete(calib_table, -1, axis = 1)\n",
    "calib_table = np.ndarray.flatten(calib_table)\n",
    "print(calib_table.shape)\n",
    "\n"
   ]
  },
  {
   "cell_type": "code",
   "execution_count": 4,
   "metadata": {
    "collapsed": true
   },
   "outputs": [],
   "source": [
    "temp = np.arange(calib_table.shape[0])"
   ]
  },
  {
   "cell_type": "code",
   "execution_count": 5,
   "metadata": {
    "collapsed": true
   },
   "outputs": [],
   "source": [
    "def temperature_from_voltage(voltage = 0.):\n",
    "    '''\n",
    "    Parameters\n",
    "    ----------\n",
    "    voltage : float\n",
    "              Thermocouple voltage.\n",
    "    \n",
    "    Returns\n",
    "    -------\n",
    "    temperature : float\n",
    "                  Temperature corresponding to the thermocouple\n",
    "                  voltage.\n",
    "    '''\n",
    "    temperature = np.interp(voltage, calib_table, temp)\n",
    "    return temperature\n"
   ]
  },
  {
   "cell_type": "code",
   "execution_count": 6,
   "metadata": {
    "collapsed": true
   },
   "outputs": [],
   "source": [
    "def voltage_from_temperature(temperature = 27.):\n",
    "    '''\n",
    "    Parameters\n",
    "    ----------\n",
    "    temperature : float\n",
    "                  Temperature of the thermocouple.\n",
    "    \n",
    "    Returns\n",
    "    -------\n",
    "    voltage : float\n",
    "              Thermocouple voltage corresponding to the temperature\n",
    "              sensed by a thermocouple.\n",
    "    '''\n",
    "    voltage     = np.interp(temperature, temp, calib_table)\n",
    "    return voltage"
   ]
  },
  {
   "cell_type": "code",
   "execution_count": 11,
   "metadata": {},
   "outputs": [
    {
     "name": "stdout",
     "output_type": "stream",
     "text": [
      "[   4.3    9.3   14.3   19.3   24.3   29.3   34.3   39.3   44.3   49.3\n",
      "   54.3   59.3   64.3   69.3   74.3   79.3   84.3   89.3   94.3   99.3\n",
      "  104.3  109.3  114.3  119.3  124.3]\n"
     ]
    },
    {
     "data": {
      "text/plain": [
       "array([ 0.17  ,  0.369 ,  0.569 ,  0.77  ,  0.972 ,  1.1743,  1.3783,\n",
       "        1.5823,  1.7883,  1.9933,  2.2003,  2.4066,  2.6136,  2.8213,\n",
       "        3.0286,  3.2366,  3.4443,  3.6516,  3.8593,  4.0663,  4.2733,\n",
       "        4.4793,  4.6853,  4.8903,  5.0953])"
      ]
     },
     "execution_count": 11,
     "metadata": {},
     "output_type": "execute_result"
    }
   ],
   "source": [
    "temperatures = np.arange(37.3, 160, 5) - 33\n",
    "print(temperatures)\n",
    "\n",
    "voltage_from_temperature(temperatures)"
   ]
  },
  {
   "cell_type": "code",
   "execution_count": 26,
   "metadata": {},
   "outputs": [
    {
     "data": {
      "text/plain": [
       "90.09756097560975"
      ]
     },
     "execution_count": 26,
     "metadata": {},
     "output_type": "execute_result"
    }
   ],
   "source": [
    "temperature_from_voltage(2.36 + voltage_from_temperature(33))"
   ]
  },
  {
   "cell_type": "code",
   "execution_count": 27,
   "metadata": {},
   "outputs": [
    {
     "name": "stdout",
     "output_type": "stream",
     "text": [
      "1.325\n",
      "6.539\n",
      "5.205\n"
     ]
    }
   ],
   "source": [
    "print(voltage_from_temperature(33))\n",
    "print(voltage_from_temperature(160))\n",
    "print(voltage_from_temperature(160 - 33))"
   ]
  },
  {
   "cell_type": "code",
   "execution_count": 22,
   "metadata": {},
   "outputs": [
    {
     "name": "stdout",
     "output_type": "stream",
     "text": [
      "121.97560975609755\n",
      "33.0\n"
     ]
    }
   ],
   "source": [
    "print(temperature_from_voltage(5.))\n",
    "print(temperature_from_voltage(1.325))"
   ]
  },
  {
   "cell_type": "code",
   "execution_count": 19,
   "metadata": {},
   "outputs": [
    {
     "name": "stdout",
     "output_type": "stream",
     "text": [
      "155.58536585365854\n"
     ]
    }
   ],
   "source": [
    "print(33.0 + 122.58536585365854)"
   ]
  },
  {
   "cell_type": "code",
   "execution_count": 33,
   "metadata": {},
   "outputs": [
    {
     "data": {
      "text/plain": [
       "5.013"
      ]
     },
     "execution_count": 33,
     "metadata": {},
     "output_type": "execute_result"
    }
   ],
   "source": [
    "voltage_from_temperature(155.) - voltage_from_temperature(33.)"
   ]
  },
  {
   "cell_type": "code",
   "execution_count": null,
   "metadata": {
    "collapsed": true
   },
   "outputs": [],
   "source": []
  }
 ],
 "metadata": {
  "kernelspec": {
   "display_name": "Python 3",
   "language": "python",
   "name": "python3"
  },
  "language_info": {
   "codemirror_mode": {
    "name": "ipython",
    "version": 3
   },
   "file_extension": ".py",
   "mimetype": "text/x-python",
   "name": "python",
   "nbconvert_exporter": "python",
   "pygments_lexer": "ipython3",
   "version": "3.5.2"
  }
 },
 "nbformat": 4,
 "nbformat_minor": 2
}
