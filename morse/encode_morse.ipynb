{
 "cells": [
  {
   "cell_type": "code",
   "execution_count": 48,
   "metadata": {},
   "outputs": [],
   "source": [
    "morse_dic = {'A' : '01',\n",
    "             'B' : '1000',\n",
    "             'C' : '1010',\n",
    "             'D' : '100',\n",
    "             'E' : '0',\n",
    "             'F' : '0010',\n",
    "             'G' : '110',\n",
    "             'H' : '0000',\n",
    "             'I' : '00',\n",
    "             'J' : '0111',\n",
    "             'K' : '101',\n",
    "             'L' : '0100',\n",
    "             'M' : '11',\n",
    "             'N' : '10',\n",
    "             'O' : '111',\n",
    "             'P' : '1001',\n",
    "             'Q' : '1101',\n",
    "             'R' : '010',\n",
    "             'S' : '000',\n",
    "             'T' : '1',\n",
    "             'U' : '001',\n",
    "             'V' : '0001',\n",
    "             'W' : '011',\n",
    "             'X' : '1001',\n",
    "             'Y' : '1011',\n",
    "             'Z' : '1100',\n",
    "             '1' : '01111',\n",
    "             '2' : '00111',\n",
    "             '3' : '00011',\n",
    "             '4' : '00001',\n",
    "             '5' : '00000',\n",
    "             '6' : '10000',\n",
    "             '7' : '11000',\n",
    "             '8' : '11100',\n",
    "             '9' : '11110',\n",
    "             '0' : '11111',\n",
    "             ' ' : '|'}\n",
    "\n",
    "def morse_lookup_table(dot  = '.', dash = '-'):\n",
    "    '''\n",
    "    '''\n",
    "\n",
    "    new_morse_lookup = morse_dic.copy()\n",
    "\n",
    "    for char, code in new_morse_lookup.items():\n",
    "        new_code = ''\n",
    "        for dot_dash in code:\n",
    "            if dot_dash == dot:\n",
    "                new_code += dot\n",
    "            elif dot_dash == dash:\n",
    "                new_code += dash\n",
    "            else:\n",
    "                new_code = '|'\n",
    "            new_code += ' '\n",
    "        new_morse_lookup[char.upper()] = new_code\n",
    "    \n",
    "    return new_morse_lookup\n"
   ]
  },
  {
   "cell_type": "code",
   "execution_count": 49,
   "metadata": {},
   "outputs": [],
   "source": [
    "def encode_morse(text, dit = '.', dah = '-'):\n",
    "    '''\n",
    "    '''\n",
    "    \n",
    "    morse_lookup = morse_lookup_table(dot = dit, dash = dah)\n",
    "    print(morse_lookup)\n",
    "    morse = ''\n",
    "    \n",
    "    for char in text:\n",
    "        morse += morse_lookup[char.upper()]\n",
    "    \n",
    "    return morse\n"
   ]
  },
  {
   "cell_type": "code",
   "execution_count": 50,
   "metadata": {},
   "outputs": [
    {
     "name": "stdout",
     "output_type": "stream",
     "text": [
      "{'A': '0 1 ', 'B': '1 0 0 0 ', 'C': '1 0 1 0 ', 'D': '1 0 0 ', 'E': '0 ', 'F': '0 0 1 0 ', 'G': '1 1 0 ', 'H': '0 0 0 0 ', 'I': '0 0 ', 'J': '0 1 1 1 ', 'K': '1 0 1 ', 'L': '0 1 0 0 ', 'M': '1 1 ', 'N': '1 0 ', 'O': '1 1 1 ', 'P': '1 0 0 1 ', 'Q': '1 1 0 1 ', 'R': '0 1 0 ', 'S': '0 0 0 ', 'T': '1 ', 'U': '0 0 1 ', 'V': '0 0 0 1 ', 'W': '0 1 1 ', 'X': '1 0 0 1 ', 'Y': '1 0 1 1 ', 'Z': '1 1 0 0 ', '1': '0 1 1 1 1 ', '2': '0 0 1 1 1 ', '3': '0 0 0 1 1 ', '4': '0 0 0 0 1 ', '5': '0 0 0 0 0 ', '6': '1 0 0 0 0 ', '7': '1 1 0 0 0 ', '8': '1 1 1 0 0 ', '9': '1 1 1 1 0 ', '0': '1 1 1 1 1 ', ' ': '| '}\n"
     ]
    },
    {
     "data": {
      "text/plain": [
       "'0 0 | 1 1 0 0 0 0 0 0 0 0 | 1 0 1 1 1 1 1 0 0 1 '"
      ]
     },
     "execution_count": 50,
     "metadata": {},
     "output_type": "execute_result"
    }
   ],
   "source": [
    "text = 'I miss you'\n",
    "encode_morse(text, dit = '0', dah = '1')"
   ]
  },
  {
   "cell_type": "code",
   "execution_count": null,
   "metadata": {},
   "outputs": [],
   "source": []
  }
 ],
 "metadata": {
  "kernelspec": {
   "display_name": "Python 3",
   "language": "python",
   "name": "python3"
  },
  "language_info": {
   "codemirror_mode": {
    "name": "ipython",
    "version": 3
   },
   "file_extension": ".py",
   "mimetype": "text/x-python",
   "name": "python",
   "nbconvert_exporter": "python",
   "pygments_lexer": "ipython3",
   "version": "3.6.3"
  }
 },
 "nbformat": 4,
 "nbformat_minor": 2
}
