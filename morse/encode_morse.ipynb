{
 "cells": [
  {
   "cell_type": "code",
   "execution_count": 41,
   "metadata": {},
   "outputs": [],
   "source": [
    "morse_dic = {'A' : '01',\n",
    "             'B' : '1000',\n",
    "             'C' : '1010',\n",
    "             'D' : '100',\n",
    "             'E' : '0',\n",
    "             'F' : '0010',\n",
    "             'G' : '110',\n",
    "             'H' : '0000',\n",
    "             'I' : '00',\n",
    "             'J' : '0111',\n",
    "             'K' : '101',\n",
    "             'L' : '0100',\n",
    "             'M' : '11',\n",
    "             'N' : '10',\n",
    "             'O' : '111',\n",
    "             'P' : '1001',\n",
    "             'Q' : '1101',\n",
    "             'R' : '010',\n",
    "             'S' : '000',\n",
    "             'T' : '1',\n",
    "             'U' : '001',\n",
    "             'V' : '0001',\n",
    "             'W' : '011',\n",
    "             'X' : '1001',\n",
    "             'Y' : '1011',\n",
    "             'Z' : '1100',\n",
    "             '1' : '01111',\n",
    "             '2' : '00111',\n",
    "             '3' : '00011',\n",
    "             '4' : '00001',\n",
    "             '5' : '00000',\n",
    "             '6' : '10000',\n",
    "             '7' : '11000',\n",
    "             '8' : '11100',\n",
    "             '9' : '11110',\n",
    "             '0' : '11111',\n",
    "             ' ' : ' '}\n",
    "\n",
    "def morse_lookup_table(dot  = '.', dash = '-'):\n",
    "    '''\n",
    "    '''\n",
    "\n",
    "    new_morse_lookup = morse_dic.copy()\n",
    "\n",
    "    for char, code in morse_dic.items():\n",
    "        new_code = ''\n",
    "        for dot_dash in code:\n",
    "            if dot_dash == '0':\n",
    "                new_code += dot\n",
    "            elif dot_dash == '1':\n",
    "                new_code += dash\n",
    "            else:\n",
    "                new_code = ' '\n",
    "        new_morse_lookup[char.upper()] = new_code\n",
    "    \n",
    "    return new_morse_lookup\n"
   ]
  },
  {
   "cell_type": "code",
   "execution_count": 61,
   "metadata": {},
   "outputs": [],
   "source": [
    "def encode_morse(text, dit = '.', dah = '-'):\n",
    "    '''\n",
    "    '''\n",
    "    \n",
    "    morse_lookup = morse_lookup_table(dot = dit, dash = dah)\n",
    "    \n",
    "    morse = ''\n",
    "    \n",
    "    for char in text:\n",
    "        morse += morse_lookup[char.upper()]\n",
    "    \n",
    "    return morse\n"
   ]
  },
  {
   "cell_type": "code",
   "execution_count": null,
   "metadata": {},
   "outputs": [],
   "source": []
  }
 ],
 "metadata": {
  "kernelspec": {
   "display_name": "Python 3",
   "language": "python",
   "name": "python3"
  },
  "language_info": {
   "codemirror_mode": {
    "name": "ipython",
    "version": 3
   },
   "file_extension": ".py",
   "mimetype": "text/x-python",
   "name": "python",
   "nbconvert_exporter": "python",
   "pygments_lexer": "ipython3",
   "version": "3.6.3"
  }
 },
 "nbformat": 4,
 "nbformat_minor": 2
}
