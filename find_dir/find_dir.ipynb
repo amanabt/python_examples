{
 "cells": [
  {
   "cell_type": "code",
   "execution_count": 49,
   "metadata": {},
   "outputs": [],
   "source": [
    "import os\n",
    "import numpy as np"
   ]
  },
  {
   "cell_type": "code",
   "execution_count": 73,
   "metadata": {},
   "outputs": [],
   "source": [
    "base_dir = \"/home/ubermensch/workspace/git\""
   ]
  },
  {
   "cell_type": "code",
   "execution_count": 38,
   "metadata": {},
   "outputs": [],
   "source": [
    "\n",
    "def find_dir (base_dir = os.environ[\"HOME\"], search_dir = '.svn'):\n",
    "    \"\"\"\n",
    "    Function to find a directory path by its name\n",
    "    \n",
    "    Returns: Python list of found paths.\n",
    "    \"\"\"\n",
    "    path_list = []\n",
    "    for dirpath, dirnames, filenames in os.walk(base_dir):\n",
    "        for dirname in dirnames:\n",
    "            if dirname == search_dir:\n",
    "                dirname = os.path.join(dirpath, dirname)\n",
    "                path_list.append(dirname)\n",
    "                \n",
    "    return path_list"
   ]
  },
  {
   "cell_type": "code",
   "execution_count": 77,
   "metadata": {},
   "outputs": [
    {
     "name": "stdout",
     "output_type": "stream",
     "text": [
      "['/home/ubermensch/workspace/git/DAS-4CHN-KS/.git'\n",
      " '/home/ubermensch/workspace/git/STM_doc/.git'\n",
      " '/home/ubermensch/workspace/git/arrayfire_test/.git'\n",
      " '/home/ubermensch/workspace/git/gEDA/.git'\n",
      " '/home/ubermensch/workspace/git/pylib/.git'\n",
      " '/home/ubermensch/workspace/git/scripts/.git'\n",
      " '/home/ubermensch/workspace/git/OSHA/.git'\n",
      " '/home/ubermensch/workspace/git/arrayfire-python/.git'\n",
      " '/home/ubermensch/workspace/git/startbootstrap-clean-blog-jekyll/.git'\n",
      " '/home/ubermensch/workspace/git/tendril-utils-types/.git'\n",
      " '/home/ubermensch/workspace/git/DAQFE/.git'\n",
      " '/home/ubermensch/workspace/git/gEDA2/.git'\n",
      " '/home/ubermensch/workspace/git/python_examples/.git'\n",
      " '/home/ubermensch/workspace/git/photoGallery/.git'\n",
      " '/home/ubermensch/workspace/git/arrayfire_tests/.git'\n",
      " '/home/ubermensch/workspace/git/blog/.git'\n",
      " '/home/ubermensch/workspace/git/gmshtranslator/.git'\n",
      " '/home/ubermensch/workspace/git/arrayfire-project-templates/.git'\n",
      " '/home/ubermensch/workspace/git/Flute/.git'\n",
      " '/home/ubermensch/workspace/git/DAS/.git'\n",
      " '/home/ubermensch/workspace/git/flightgear_scripts/.git'\n",
      " '/home/ubermensch/workspace/git/amanabt.github.io/.git'\n",
      " '/home/ubermensch/workspace/git/cloned_project1/.git'\n",
      " '/home/ubermensch/workspace/git/dot-files/.git'\n",
      " '/home/ubermensch/workspace/git/bom_to_stkSum/.git'\n",
      " '/home/ubermensch/workspace/git/tesseract/.git'\n",
      " '/home/ubermensch/workspace/git/oh-my-zsh/.git']\n"
     ]
    }
   ],
   "source": [
    "git_dirs = np.array (find_dir(base_dir, '.git'))\n",
    "print (git_dirs)"
   ]
  },
  {
   "cell_type": "code",
   "execution_count": 84,
   "metadata": {},
   "outputs": [
    {
     "name": "stdout",
     "output_type": "stream",
     "text": [
      "git@github.com:amanabt/DAS-4CHN-KS.git\n",
      "git@github.com:amanabt/STM_doc.git\n",
      "git@github.com:amanabt/arrayfire_test.git\n",
      "git@github.com:amanabt/gEDA.git\n",
      "git@github.com:amanabt/pylib.git\n",
      "git@github.com:amanabt/scripts.git\n",
      "git@github.com:amanabt/OSHA.git\n",
      "git@github.com:amanabt/arrayfire-python.git\n",
      "git@github.com:amanabt/startbootstrap-clean-blog-jekyll.git\n",
      "git@github.com:amanabt/tendril-utils-types.git\n",
      "git@github.com:amanabt/DAQFE.git\n",
      "git@github.com:amanabt/gEDA2.git\n",
      "git@github.com:amanabt/python_examples.git\n",
      "git@github.com:amanabt/photoGallery.git\n",
      "git@github.com:amanabt/arrayfire_tests.git\n",
      "git@github.com:amanabt/blog.git\n",
      "git@github.com:amanabt/gmshtranslator.git\n",
      "git@github.com:amanabt/arrayfire-project-templates.git\n",
      "git@github.com:amanabt/Flute.git\n",
      "git@github.com:amanabt/DAS.git\n",
      "git@github.com:amanabt/flightgear_scripts.git\n",
      "git@github.com:amanabt/amanabt.github.io.git\n",
      "git@github.com:amanabt/cloned_project1.git\n",
      "git@github.com:amanabt/dot-files.git\n",
      "git@github.com:amanabt/bom_to_stkSum.git\n",
      "git@github.com:amanabt/tesseract.git\n",
      "git@github.com:amanabt/oh-my-zsh.git\n"
     ]
    }
   ],
   "source": [
    "for path in git_dirs:\n",
    "    rel_path = (os.path.relpath(path, base_dir))\n",
    "    path = 'git@github.com:amanabt/' + rel_path[:-5] + '.git'\n",
    "    print (path)\n"
   ]
  },
  {
   "cell_type": "code",
   "execution_count": 64,
   "metadata": {},
   "outputs": [
    {
     "data": {
      "text/plain": [
       "'/home/ubermensch/workspace/quazar/svn'"
      ]
     },
     "execution_count": 64,
     "metadata": {},
     "output_type": "execute_result"
    }
   ],
   "source": [
    "a = np.array([base_dir])\n",
    "a[0]"
   ]
  },
  {
   "cell_type": "code",
   "execution_count": null,
   "metadata": {},
   "outputs": [],
   "source": []
  }
 ],
 "metadata": {
  "kernelspec": {
   "display_name": "Python 3",
   "language": "python",
   "name": "python3"
  },
  "language_info": {
   "codemirror_mode": {
    "name": "ipython",
    "version": 3
   },
   "file_extension": ".py",
   "mimetype": "text/x-python",
   "name": "python",
   "nbconvert_exporter": "python",
   "pygments_lexer": "ipython3",
   "version": "3.8.0"
  }
 },
 "nbformat": 4,
 "nbformat_minor": 4
}
